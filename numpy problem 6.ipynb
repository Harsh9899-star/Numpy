{
 "cells": [
  {
   "cell_type": "code",
   "execution_count": 1,
   "id": "31380349",
   "metadata": {},
   "outputs": [],
   "source": [
    "import numpy as np"
   ]
  },
  {
   "cell_type": "markdown",
   "id": "d5ee66a9",
   "metadata": {},
   "source": [
    "##  Create a 3x3x3 array with random values."
   ]
  },
  {
   "cell_type": "code",
   "execution_count": 2,
   "id": "804fcb0a",
   "metadata": {},
   "outputs": [
    {
     "data": {
      "text/plain": [
       "array([[[0.74452857, 0.70188464, 0.99286405],\n",
       "        [0.19588644, 0.86461453, 0.78452195],\n",
       "        [0.84947741, 0.97886264, 0.12047225]],\n",
       "\n",
       "       [[0.57842258, 0.791857  , 0.50600923],\n",
       "        [0.78132655, 0.22952023, 0.09690231],\n",
       "        [0.55787474, 0.94354617, 0.52995678]],\n",
       "\n",
       "       [[0.09639248, 0.30734927, 0.88242817],\n",
       "        [0.20309225, 0.18418849, 0.1439633 ],\n",
       "        [0.26665632, 0.59800733, 0.98437098]]])"
      ]
     },
     "execution_count": 2,
     "metadata": {},
     "output_type": "execute_result"
    }
   ],
   "source": [
    "np.random.rand(3,3,3)\n"
   ]
  },
  {
   "cell_type": "code",
   "execution_count": null,
   "id": "57061cad",
   "metadata": {},
   "outputs": [],
   "source": []
  }
 ],
 "metadata": {
  "kernelspec": {
   "display_name": "Python 3",
   "language": "python",
   "name": "python3"
  },
  "language_info": {
   "codemirror_mode": {
    "name": "ipython",
    "version": 3
   },
   "file_extension": ".py",
   "mimetype": "text/x-python",
   "name": "python",
   "nbconvert_exporter": "python",
   "pygments_lexer": "ipython3",
   "version": "3.8.8"
  }
 },
 "nbformat": 4,
 "nbformat_minor": 5
}
